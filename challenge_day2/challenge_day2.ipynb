{
 "cells": [
  {
   "attachments": {},
   "cell_type": "markdown",
   "metadata": {},
   "source": [
    "# Observation Challenge\n",
    "\n",
    "In this challenge, you have to create an algorithm based on several algorithm parts.\n",
    "\n",
    "## Stations\n",
    "Across the JK building, we have placed several stations. At each station, you can find sample inputs and their expected outputs for one of the algorithm parts.\n",
    "You must decipher the algorithm behind each station yourself.\n",
    "The locations of all the stations are listed where Lukas and Roland are sitting.\n",
    "\n",
    "# Your task\n",
    "- Create files in this directory named station1.py, station2.py, etc.\n",
    "- Each member of the team must commit (including any changes) at least one of these files.\n",
    "- Each of these files contains a function named solution_station_X(), where X is the station number, same as the file name\n",
    "- Fill out the cell below and generate the correct overall output\n",
    "- You are allowed to use all built-in Python modules, as well as numpy and pandas in your solutions."
   ]
  },
  {
   "cell_type": "code",
   "execution_count": 6,
   "metadata": {},
   "outputs": [
    {
     "ename": "AttributeError",
     "evalue": "'int' object has no attribute 'replace'",
     "output_type": "error",
     "traceback": [
      "\u001b[31m---------------------------------------------------------------------------\u001b[39m",
      "\u001b[31mAttributeError\u001b[39m                            Traceback (most recent call last)",
      "\u001b[36mCell\u001b[39m\u001b[36m \u001b[39m\u001b[32mIn[6]\u001b[39m\u001b[32m, line 34\u001b[39m\n\u001b[32m     31\u001b[39m     \u001b[38;5;28;01massert\u001b[39;00m \u001b[38;5;28misinstance\u001b[39m(output7, \u001b[38;5;28mfloat\u001b[39m)\n\u001b[32m     32\u001b[39m     \u001b[38;5;28;01mreturn\u001b[39;00m output1 * \u001b[38;5;28mint\u001b[39m.from_bytes(output2[\u001b[32m0\u001b[39m].encode(\u001b[33m\"\u001b[39m\u001b[33municode_escape\u001b[39m\u001b[33m\"\u001b[39m), byteorder=\u001b[33m'\u001b[39m\u001b[33mbig\u001b[39m\u001b[33m'\u001b[39m) * (\u001b[32m3\u001b[39m \u001b[38;5;28;01mif\u001b[39;00m output3 \u001b[38;5;28;01melse\u001b[39;00m \u001b[32m2\u001b[39m) * (\u001b[32m5\u001b[39m \u001b[38;5;28;01mif\u001b[39;00m output4 \u001b[38;5;28;01melse\u001b[39;00m \u001b[32m4\u001b[39m) * output5 * output6 * output7\n\u001b[32m---> \u001b[39m\u001b[32m34\u001b[39m FINAL_OUTPUT1 = \u001b[43mcombined_algorithm\u001b[49m\u001b[43m(\u001b[49m\u001b[43mobservation1\u001b[49m\u001b[43m)\u001b[49m\n\u001b[32m     35\u001b[39m FINAL_OUTPUT2 = combined_algorithm(observation2)\n\u001b[32m     36\u001b[39m FINAL_OUTPUT3 = combined_algorithm(observation3)\n",
      "\u001b[36mCell\u001b[39m\u001b[36m \u001b[39m\u001b[32mIn[6]\u001b[39m\u001b[32m, line 19\u001b[39m, in \u001b[36mcombined_algorithm\u001b[39m\u001b[34m(observations)\u001b[39m\n\u001b[32m     17\u001b[39m \u001b[38;5;28;01mdef\u001b[39;00m\u001b[38;5;250m \u001b[39m\u001b[34mcombined_algorithm\u001b[39m(observations: \u001b[38;5;28mtuple\u001b[39m) -> \u001b[38;5;28mint\u001b[39m:\n\u001b[32m     18\u001b[39m     output1 = solution_station_1(observations[\u001b[32m1\u001b[39m])\n\u001b[32m---> \u001b[39m\u001b[32m19\u001b[39m     output2 = \u001b[43msolution_station_2\u001b[49m\u001b[43m(\u001b[49m\u001b[43mobservations\u001b[49m\u001b[43m[\u001b[49m\u001b[32;43m2\u001b[39;49m\u001b[43m]\u001b[49m\u001b[43m)\u001b[49m\n\u001b[32m     20\u001b[39m     output3 = solution_station_3(observations[\u001b[32m3\u001b[39m])\n\u001b[32m     21\u001b[39m     output4 = solution_station_4(observations[\u001b[32m4\u001b[39m])\n",
      "\u001b[36mFile \u001b[39m\u001b[32mc:\\Users\\gerri\\Desktop\\uiiai\\challenge_day2\\station2.py:11\u001b[39m, in \u001b[36msolution_station_2\u001b[39m\u001b[34m(input_value)\u001b[39m\n\u001b[32m      7\u001b[39m days_jp = [\u001b[33m\"\u001b[39m\u001b[33m月曜日\u001b[39m\u001b[33m\"\u001b[39m, \u001b[33m\"\u001b[39m\u001b[33m火曜日\u001b[39m\u001b[33m\"\u001b[39m, \u001b[33m\"\u001b[39m\u001b[33m水曜日\u001b[39m\u001b[33m\"\u001b[39m, \u001b[33m\"\u001b[39m\u001b[33m木曜日\u001b[39m\u001b[33m\"\u001b[39m, \u001b[33m\"\u001b[39m\u001b[33m金曜日\u001b[39m\u001b[33m\"\u001b[39m, \u001b[33m\"\u001b[39m\u001b[33m土曜日\u001b[39m\u001b[33m\"\u001b[39m, \u001b[33m\"\u001b[39m\u001b[33m日曜日\u001b[39m\u001b[33m\"\u001b[39m]\n\u001b[32m      9\u001b[39m \u001b[38;5;28;01mtry\u001b[39;00m:\n\u001b[32m     10\u001b[39m     \u001b[38;5;66;03m# Accommodate for potential typos in date format\u001b[39;00m\n\u001b[32m---> \u001b[39m\u001b[32m11\u001b[39m     cleaned_date_str = \u001b[43minput_value\u001b[49m\u001b[43m.\u001b[49m\u001b[43mreplace\u001b[49m(\u001b[33m'\u001b[39m\u001b[33m \u001b[39m\u001b[33m'\u001b[39m, \u001b[33m'\u001b[39m\u001b[33m'\u001b[39m).replace(\u001b[33m'\u001b[39m\u001b[33mO\u001b[39m\u001b[33m'\u001b[39m, \u001b[33m'\u001b[39m\u001b[33m0\u001b[39m\u001b[33m'\u001b[39m) \u001b[38;5;66;03m# Common OCR errors\u001b[39;00m\n\u001b[32m     12\u001b[39m     \u001b[38;5;28;01mif\u001b[39;00m \u001b[38;5;28mlen\u001b[39m(cleaned_date_str) == \u001b[32m9\u001b[39m \u001b[38;5;129;01mand\u001b[39;00m cleaned_date_str[\u001b[32m4\u001b[39m] != \u001b[33m'\u001b[39m\u001b[33m-\u001b[39m\u001b[33m'\u001b[39m: \u001b[38;5;66;03m# e.g., 202403-24\u001b[39;00m\n\u001b[32m     13\u001b[39m         cleaned_date_str = cleaned_date_str[:\u001b[32m4\u001b[39m] + \u001b[33m'\u001b[39m\u001b[33m-\u001b[39m\u001b[33m'\u001b[39m + cleaned_date_str[\u001b[32m4\u001b[39m:\u001b[32m6\u001b[39m] + \u001b[33m'\u001b[39m\u001b[33m-\u001b[39m\u001b[33m'\u001b[39m + cleaned_date_str[\u001b[32m7\u001b[39m:]\n",
      "\u001b[31mAttributeError\u001b[39m: 'int' object has no attribute 'replace'"
     ]
    }
   ],
   "source": [
    "from tests import tests\n",
    "from station1 import solution_station_1\n",
    "from station2 import solution_station_2\n",
    "from station3 import solution_station_3\n",
    "from station4 import solution_station_4\n",
    "from station5 import solution_station_5\n",
    "from station6 import solution_station_6\n",
    "from station7 import solution_station_7\n",
    "\n",
    "# List three observations of all inputs (not sample inputs) observed at the same time\n",
    "# Format: (time: str, station1_input: int, station2_input: str, station3_input: int, station4_input: int, station5_input: str, station6_input: int, station7_input: str)\n",
    "# Example: ('12:30:00', 1, '1990-01-01', 2, 3, \"John\", 4, \"e=mc^2\")\n",
    "observation1 = ('10:06:05', 33, 20240420, 29049, 1904, 'Nadee', 24, 'b+c+a*e')\n",
    "observation2 = ( \"10:07:23\", 65, 20240403, 44119, 3546, 'Mies', 16, 'e*d')\n",
    "observation3 = ( \"12:04:24\", 9, 20240220, 14525, 5721, 'Jelle', 84, 'a*b')\n",
    "\n",
    "def combined_algorithm(observations: tuple) -> int:\n",
    "    output1 = solution_station_1(observations[1])\n",
    "    output2 = solution_station_2(observations[2])\n",
    "    output3 = solution_station_3(observations[3])\n",
    "    output4 = solution_station_4(observations[4])\n",
    "    output5 = solution_station_5(observations[5])\n",
    "    output6 = solution_station_6(observations[6])\n",
    "    output7 = solution_station_7(observations[7])\n",
    "    assert isinstance(output1, int)\n",
    "    assert isinstance(output2, str)\n",
    "    assert isinstance(output3, bool)\n",
    "    assert isinstance(output4, bool)\n",
    "    assert isinstance(output5, int)\n",
    "    assert isinstance(output6, float)\n",
    "    assert isinstance(output7, float)\n",
    "    return output1 * int.from_bytes(output2[0].encode(\"unicode_escape\"), byteorder='big') * (3 if output3 else 2) * (5 if output4 else 4) * output5 * output6 * output7\n",
    "\n",
    "FINAL_OUTPUT1 = combined_algorithm(observation1)\n",
    "FINAL_OUTPUT2 = combined_algorithm(observation2)\n",
    "FINAL_OUTPUT3 = combined_algorithm(observation3)\n",
    "tests.Test_Exercise(combined_algorithm)"
   ]
  }
 ],
 "metadata": {
  "kernelspec": {
   "display_name": "Python 3",
   "language": "python",
   "name": "python3"
  },
  "language_info": {
   "codemirror_mode": {
    "name": "ipython",
    "version": 3
   },
   "file_extension": ".py",
   "mimetype": "text/x-python",
   "name": "python",
   "nbconvert_exporter": "python",
   "pygments_lexer": "ipython3",
   "version": "3.11.8"
  },
  "orig_nbformat": 4
 },
 "nbformat": 4,
 "nbformat_minor": 2
}
